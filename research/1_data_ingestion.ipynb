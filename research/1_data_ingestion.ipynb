{
 "cells": [
  {
   "cell_type": "code",
   "execution_count": 3,
   "id": "693a6915",
   "metadata": {},
   "outputs": [
    {
     "data": {
      "text/plain": [
       "'d:\\\\WineQuality_EndToEndDataScienceProject\\\\WineQualityDataScienceProject\\\\research'"
      ]
     },
     "execution_count": 3,
     "metadata": {},
     "output_type": "execute_result"
    }
   ],
   "source": [
    "import os \n",
    "%pwd"
   ]
  },
  {
   "cell_type": "code",
   "execution_count": 4,
   "id": "d4062d80",
   "metadata": {},
   "outputs": [
    {
     "data": {
      "text/plain": [
       "'d:\\\\WineQuality_EndToEndDataScienceProject\\\\WineQualityDataScienceProject'"
      ]
     },
     "execution_count": 4,
     "metadata": {},
     "output_type": "execute_result"
    }
   ],
   "source": [
    "os.chdir(\"../\")\n",
    "%pwd"
   ]
  },
  {
   "cell_type": "code",
   "execution_count": 8,
   "id": "0b1d1bf3",
   "metadata": {},
   "outputs": [],
   "source": [
    "# This will be put in src/WineQualityPrediction/config/configuration.py\n",
    "from src.WineQualityPrediction.constants import config_file_path , params_file_path , schema_file_path\n",
    "from src.WineQualityPrediction.utils.common import read_yaml , create_directories\n",
    "from src.WineQualityPrediction.entity.config_entity import DataIngestionConfig\n",
    "\n",
    "class ConfigurationManager:\n",
    "    def __init__(self , config_file_path = config_file_path ,\n",
    "                 params_file_path = params_file_path ,\n",
    "                   schema_file_path = schema_file_path):\n",
    "        \n",
    "        self.config = read_yaml(config_file_path)\n",
    "        self.params = read_yaml(params_file_path)\n",
    "        self.schema = read_yaml(schema_file_path)\n",
    "\n",
    "        create_directories([self.config.artifacts_root])\n",
    "\n",
    "    \n",
    "    def get_data_ingestion_config(self) -> DataIngestionConfig :\n",
    "        config = self.config.data_ingestion\n",
    "        create_directories([config.root_dir])\n",
    "        data_ingestion_config = DataIngestionConfig(\n",
    "            root_dir= config.root_dir,\n",
    "            source_url= config.source_url,\n",
    "            local_data_file=config.datafileLocation,\n",
    "            unzip_dir= config.unzip_dir\n",
    "\n",
    "        )\n",
    "        return data_ingestion_config\n",
    "\n",
    "\n"
   ]
  },
  {
   "cell_type": "code",
   "execution_count": 20,
   "id": "e8008c36",
   "metadata": {},
   "outputs": [],
   "source": [
    "import zipfile \n",
    "import urllib.request as request \n",
    "import os \n",
    "from src.WineQualityPrediction import logger \n",
    "from src.WineQualityPrediction.entity.config_entity import DataIngestionConfig\n",
    "\n",
    "\n",
    "\n",
    "\n",
    "class DataIngestion:\n",
    "    def __init__(self , config : DataIngestionConfig):\n",
    "        self.config = config \n",
    "    \n",
    "    def download_file(self):\n",
    "        if not os.path.exists(self.config.local_data_file):\n",
    "            filename , headers = request.urlretrieve(url = self.config.source_url ,\n",
    "                                                     filename = self.config.local_data_file)\n",
    "            logger.info(f\"{filename} downloaded with following info : \\n {headers}\")\n",
    "\n",
    "        else :\n",
    "            logger.info(f\"File already exists\")\n",
    "\n",
    "    def extract_zip_file(self):\n",
    "        unzip_path = self.config.unzip_dir\n",
    "        with zipfile.ZipFile(self.config.local_data_file , 'r') as file:\n",
    "            file.extractall(unzip_path)\n",
    "        logger.info(f\"{self.config.local_data_file} extracted at {unzip_path}\")\n",
    "        \n",
    "\n",
    "        "
   ]
  },
  {
   "cell_type": "code",
   "execution_count": 21,
   "id": "97081178",
   "metadata": {},
   "outputs": [
    {
     "name": "stdout",
     "output_type": "stream",
     "text": [
      "[2025-04-10 14:09:20,236] : INFO : common : yaml file: config\\config.yml loaded successfully\n",
      "[2025-04-10 14:09:20,239] : INFO : common : yaml file: params.yml loaded successfully\n",
      "[2025-04-10 14:09:20,241] : INFO : common : yaml file: schema.yml loaded successfully\n",
      "[2025-04-10 14:09:20,242] : INFO : common : Created directory at: artifacts\n",
      "[2025-04-10 14:09:20,243] : INFO : common : Created directory at: artifacts/data_ingestion\n",
      "[2025-04-10 14:09:20,243] : INFO : 3063299882 : File already exists\n",
      "[2025-04-10 14:09:20,250] : INFO : 3063299882 : artifacts/data_ingestion/data.zip extracted at artifacts/data_ingestion\n"
     ]
    }
   ],
   "source": [
    "try :\n",
    "    config = ConfigurationManager()\n",
    "    data_ingestion_config = config.get_data_ingestion_config()\n",
    "    data_ingestion = DataIngestion(config=data_ingestion_config)\n",
    "    data_ingestion.download_file()\n",
    "    data_ingestion.extract_zip_file()\n",
    "except Exception as e :\n",
    "    raise e\n",
    "\n",
    "\n"
   ]
  }
 ],
 "metadata": {
  "kernelspec": {
   "display_name": "Python 3",
   "language": "python",
   "name": "python3"
  },
  "language_info": {
   "codemirror_mode": {
    "name": "ipython",
    "version": 3
   },
   "file_extension": ".py",
   "mimetype": "text/x-python",
   "name": "python",
   "nbconvert_exporter": "python",
   "pygments_lexer": "ipython3",
   "version": "3.10.0"
  }
 },
 "nbformat": 4,
 "nbformat_minor": 5
}
