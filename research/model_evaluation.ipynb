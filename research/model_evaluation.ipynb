{
 "cells": [
  {
   "cell_type": "code",
   "execution_count": null,
   "id": "3d245123",
   "metadata": {},
   "outputs": [],
   "source": [
    "import os\n",
    "os.environ[\"MLFLOW_TRACKING_URI\"] = \"https://dagshub.com/ankurbhatt1611/WineQualityDataScienceProject.mlflow\"\n",
    "os.environ[\"MLFLOW_TRACKING_USERNAME\"] = \"ankurbhatt1611\"\n",
    "os.environ[\"MLFLOW_TRACKING_PASSWORD\"] = \"896696bb520653b1b87471269f6c9d55771f4bcc\"\n"
   ]
  },
  {
   "cell_type": "code",
   "execution_count": 15,
   "id": "f22c9b14",
   "metadata": {},
   "outputs": [],
   "source": [
    "from pathlib import Path\n",
    "from dataclasses import dataclass\n",
    "\n",
    "@dataclass\n",
    "class ModelEvaluationConfig:\n",
    "    root_dir : Path \n",
    "    test_data_path : Path\n",
    "    model_path : Path \n",
    "    metric_file_name : Path \n",
    "    all_params : dict \n",
    "    target_column : Path \n",
    "    mlflow_uri : str \n",
    "\n",
    "\n"
   ]
  },
  {
   "cell_type": "code",
   "execution_count": null,
   "id": "ec65426b",
   "metadata": {},
   "outputs": [
    {
     "data": {
      "text/plain": [
       "'d:\\\\WineQuality_EndToEndDataScienceProject\\\\WineQualityDataScienceProject'"
      ]
     },
     "execution_count": 7,
     "metadata": {},
     "output_type": "execute_result"
    }
   ],
   "source": [
    "# %pwd\n",
    "# os.chdir(\"../\")\n",
    "# %pwd"
   ]
  },
  {
   "cell_type": "code",
   "execution_count": 13,
   "id": "56291c91",
   "metadata": {},
   "outputs": [],
   "source": [
    "from src.WineQualityPrediction.constants import * \n",
    "from src.WineQualityPrediction.utils.common import read_yaml , create_directories"
   ]
  },
  {
   "cell_type": "code",
   "execution_count": 18,
   "id": "b6eb3fc6",
   "metadata": {},
   "outputs": [],
   "source": [
    "\n",
    "class ConfigurationManager:\n",
    "    def __init__(self , config_file_path = config_file_path,\n",
    "                  params_file_path  = params_file_path,\n",
    "                    schema_file_path = schema_file_path):\n",
    "        self.config = read_yaml(config_file_path)\n",
    "        self.params = read_yaml(params_file_path)\n",
    "        self.schema = read_yaml(schema_file_path)\n",
    "\n",
    "        create_directories([self.config.artifacts_root])\n",
    "\n",
    "    def get_model_evaluation_config(self) -> ModelEvaluationConfig :\n",
    "\n",
    "        create_directories([self.config.model_evaluation.root_dir])\n",
    "        config = self.config.model_evaluation\n",
    "        model_evaluation_config = ModelEvaluationConfig(\n",
    "            root_dir = config.root_dir,\n",
    "            test_data_path = config.test_data_path,\n",
    "            model_path = config.model_path,\n",
    "            metric_file_name = config.metric_file_name,\n",
    "            all_params = self.params.ElasticNet,\n",
    "            target_column = self.schema.TARGET_COLUMN.name,\n",
    "            mlflow_uri = \"https://dagshub.com/ankurbhatt1611/WineQualityDataScienceProject.mlflow\"\n",
    "            \n",
    "        )\n",
    "        return model_evaluation_config\n",
    "\n",
    "\n"
   ]
  },
  {
   "cell_type": "code",
   "execution_count": 21,
   "id": "35599a14",
   "metadata": {},
   "outputs": [],
   "source": [
    "import pandas as pd\n",
    "from sklearn.metrics import mean_squared_error , mean_absolute_error , r2_score \n",
    "from urllib.parse import urlparse\n",
    "import mlflow \n",
    "import mlflow.sklearn \n",
    "import numpy as np \n",
    "import joblib \n",
    "import os \n",
    "from src.WineQualityPrediction.utils.common import save_json\n",
    "\n",
    "class ModelEvaluation:\n",
    "\n",
    "    def __init__(self , config : ModelEvaluationConfig):\n",
    "        self.config = config\n",
    "\n",
    "    def eval_metrics(self , actual , pred):\n",
    "        rmse = np.sqrt(mean_squared_error(actual,pred))\n",
    "        mae = mean_absolute_error(actual,pred)\n",
    "        r2 = r2_score(actual , pred)\n",
    "        return rmse , mae , r2\n",
    "    \n",
    "    def log_into_mlflow(self):\n",
    "        test_data = pd.read_csv(self.config.test_data_path)\n",
    "        model = joblib.load(self.config.model_path)\n",
    "        test_x = test_data.drop([self.config.target_column] , axis = 1)\n",
    "        test_y = test_data[[self.config.target_column]]\n",
    "\n",
    "        mlflow.set_registry_uri(self.config.mlflow_uri)\n",
    "        tracking_uri_type_store = urlparse(mlflow.get_tracking_uri()).scheme\n",
    "\n",
    "        with mlflow.start_run():\n",
    "            predicted_qualities = model.predict(test_x)\n",
    "            (rmse , mae , r2 ) = self.eval_metrics(test_y , predicted_qualities)\n",
    "\n",
    "            # saving metrics in local\n",
    "            scores = {'rmse':rmse , 'mae' : mae , 'r2' : r2}\n",
    "            save_json(path = Path(self.config.metric_file_name) , data = scores)\n",
    "\n",
    "            # log params and metrics in mlflow\n",
    "            mlflow.log_params(self.config.all_params)\n",
    "            mlflow.log_metric(\"rmse\",rmse)\n",
    "            mlflow.log_metric(\"mae\",mae)\n",
    "            mlflow.log_metric(\"r2\",r2)\n",
    "\n",
    "            # Register the model\n",
    "            if tracking_uri_type_store != \"file\":\n",
    "                mlflow.sklearn.log_model(model,'model',registered_model_name=\"ElasticNetModel\")\n",
    "            else:\n",
    "                mlflow.sklearn.log_model(model, \"model\")\n",
    "\n"
   ]
  },
  {
   "cell_type": "code",
   "execution_count": 22,
   "id": "a452ea17",
   "metadata": {},
   "outputs": [
    {
     "name": "stdout",
     "output_type": "stream",
     "text": [
      "[2025-04-17 22:35:51,394] : INFO : common : yaml file: config\\config.yml loaded successfully\n",
      "[2025-04-17 22:35:51,397] : INFO : common : yaml file: params.yml loaded successfully\n",
      "[2025-04-17 22:35:51,400] : INFO : common : yaml file: schema.yml loaded successfully\n",
      "[2025-04-17 22:35:51,401] : INFO : common : Created directory at: artifacts\n",
      "[2025-04-17 22:35:51,401] : INFO : common : Created directory at: artifacts/model_evaluation\n",
      "[2025-04-17 22:35:52,244] : INFO : common : Json file saved at: artifacts\\model_evaluation\\metrics.json\n"
     ]
    },
    {
     "name": "stderr",
     "output_type": "stream",
     "text": [
      "2025/04/17 22:36:01 WARNING mlflow.models.model: Model logged without a signature and input example. Please set `input_example` parameter when logging the model to auto infer the model signature.\n",
      "Successfully registered model 'ElasticNetModel'.\n",
      "2025/04/17 22:36:06 INFO mlflow.store.model_registry.abstract_store: Waiting up to 300 seconds for model version to finish creation. Model name: ElasticNetModel, version 1\n",
      "Created version '1' of model 'ElasticNetModel'.\n"
     ]
    },
    {
     "name": "stdout",
     "output_type": "stream",
     "text": [
      "🏃 View run languid-shrimp-517 at: https://dagshub.com/ankurbhatt1611/WineQualityDataScienceProject.mlflow/#/experiments/0/runs/b56ab30cc5fa411b820111b31878ebad\n",
      "🧪 View experiment at: https://dagshub.com/ankurbhatt1611/WineQualityDataScienceProject.mlflow/#/experiments/0\n"
     ]
    }
   ],
   "source": [
    "try :\n",
    "    config = ConfigurationManager()\n",
    "    model_evaluation_config = config.get_model_evaluation_config()\n",
    "    model_evaluation = ModelEvaluation(config = model_evaluation_config)\n",
    "    model_evaluation.log_into_mlflow()\n",
    "except Exception as e:\n",
    "    raise e\n",
    "\n",
    "\n"
   ]
  }
 ],
 "metadata": {
  "kernelspec": {
   "display_name": "Python 3",
   "language": "python",
   "name": "python3"
  },
  "language_info": {
   "codemirror_mode": {
    "name": "ipython",
    "version": 3
   },
   "file_extension": ".py",
   "mimetype": "text/x-python",
   "name": "python",
   "nbconvert_exporter": "python",
   "pygments_lexer": "ipython3",
   "version": "3.10.0"
  }
 },
 "nbformat": 4,
 "nbformat_minor": 5
}
